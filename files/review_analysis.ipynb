{
 "cells": [
  {
   "cell_type": "code",
   "execution_count": 1,
   "metadata": {},
   "outputs": [],
   "source": [
    "import pandas as pd\n",
    "import numpy as np\n",
    "import yfinance as yf\n",
    "\n"
   ]
  },
  {
   "cell_type": "code",
   "execution_count": null,
   "metadata": {},
   "outputs": [],
   "source": [
    "ticker = yf.Ticker('A')\n",
    "news = ticker.news\n",
    "print(news)"
   ]
  },
  {
   "cell_type": "code",
   "execution_count": 12,
   "metadata": {},
   "outputs": [
    {
     "name": "stderr",
     "output_type": "stream",
     "text": [
      "INFO:httpx:HTTP Request: GET https://finance.yahoo.com/news/nvidia-meta-platforms-apple-could-095200855.html \"HTTP/1.1 200 OK\"\n"
     ]
    },
    {
     "name": "stdout",
     "output_type": "stream",
     "text": [
      "Paragraphs have been saved to extracted_paragraphs.txt\n"
     ]
    }
   ],
   "source": [
    "import httpx\n",
    "from bs4 import BeautifulSoup\n",
    "\n",
    "# Function to extract all paragraphs with a specific class and save to a file\n",
    "async def extract_paragraphs_to_file(url: str, target_class: str, output_file: str):\n",
    "    # Fetch the page content\n",
    "    async with httpx.AsyncClient() as client:\n",
    "        response = await client.get(url)\n",
    "        response.raise_for_status()  # Raise an exception for HTTP errors\n",
    "\n",
    "    # Parse the HTML content using BeautifulSoup\n",
    "    soup = BeautifulSoup(response.text, \"html.parser\")\n",
    "    \n",
    "    # Find all <p> elements with the target class\n",
    "    paragraphs = soup.find_all(\"p\", class_=target_class)\n",
    "    \n",
    "    # Extract the text content and save to a file\n",
    "    with open(output_file, \"w\", encoding=\"utf-8\") as file:\n",
    "        for i, paragraph in enumerate(paragraphs, start=1):\n",
    "            text = paragraph.get_text(strip=True)\n",
    "            file.write(f\"Paragraph {i}: {text}\\n\")\n",
    "            print(f\"Paragraph {i}: {text}\")  # Optional: Print to console for verification\n",
    "\n",
    "# Example usage\n",
    "import asyncio\n",
    "\n",
    "url = \"https://finance.yahoo.com/news/nvidia-meta-platforms-apple-could-095200855.html\"  # Target URL\n",
    "target_class = \"caas-body\"  # Replace with the specific class name\n",
    "output_file = \"extracted_paragraphs.txt\"  # Output file name\n",
    "\n",
    "# Run the extraction and save the results\n",
    "await extract_paragraphs_to_file(url, target_class, output_file)\n",
    "print(f\"Paragraphs have been saved to {output_file}\")\n"
   ]
  },
  {
   "cell_type": "code",
   "execution_count": 18,
   "metadata": {},
   "outputs": [
    {
     "name": "stdout",
     "output_type": "stream",
     "text": [
      "No element with class 'caas-body' found on the page.\n"
     ]
    }
   ],
   "source": [
    "import requests\n",
    "from bs4 import BeautifulSoup\n",
    "\n",
    "# URL of the page you want to scrape\n",
    "url = 'https://finance.yahoo.com/news/nvidia-meta-platforms-apple-could-095200855.html'  # Replace this with your actual link\n",
    "\n",
    "# Step 1: Make an HTTP request\n",
    "response = requests.get(url)\n",
    "\n",
    "if response.status_code == 200:\n",
    "    # Step 2: Parse the HTML content\n",
    "    soup = BeautifulSoup(response.text, 'html.parser')\n",
    "    \n",
    "    # Step 3: Find the element with class \"cass-body\"\n",
    "    cass_body = soup.find('div', class_='financeNeo financeNeoMorphuesGrid')  # Finds the first occurrence\n",
    "    \n",
    "    if cass_body:\n",
    "        print(\"Content inside cass-body:\")\n",
    "        print(cass_body.text)  # Print the text inside the cass-body\n",
    "    else:\n",
    "        print(\"No element with class 'caas-body' found on the page.\")\n",
    "else:\n",
    "    print(f\"Failed to retrieve the page. Status code: {response.status_code}\")\n"
   ]
  }
 ],
 "metadata": {
  "kernelspec": {
   "display_name": "Python 3",
   "language": "python",
   "name": "python3"
  },
  "language_info": {
   "codemirror_mode": {
    "name": "ipython",
    "version": 3
   },
   "file_extension": ".py",
   "mimetype": "text/x-python",
   "name": "python",
   "nbconvert_exporter": "python",
   "pygments_lexer": "ipython3",
   "version": "3.10.11"
  }
 },
 "nbformat": 4,
 "nbformat_minor": 2
}
