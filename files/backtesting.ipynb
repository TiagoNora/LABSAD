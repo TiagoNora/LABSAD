{
 "cells": [
  {
   "cell_type": "code",
   "execution_count": 18,
   "metadata": {},
   "outputs": [],
   "source": [
    "import numpy as np\n",
    "import yfinance as yf\n",
    "import plotly.express as px\n",
    "from datetime import datetime, timedelta\n",
    "import matplotlib.pyplot as plt\n"
   ]
  },
  {
   "cell_type": "code",
   "execution_count": 19,
   "metadata": {},
   "outputs": [],
   "source": [
    "stock_names = ['AAPL', 'META', 'MSFT', 'SPY']\n",
    "\n",
    "end_date = datetime.today()\n",
    "n_years = 5\n",
    "start_date = end_date - timedelta(days = n_years * 365)\n",
    "\n",
    "weights = [0.25, 0.25, 0.25, 0.25]"
   ]
  },
  {
   "cell_type": "code",
   "execution_count": 20,
   "metadata": {},
   "outputs": [],
   "source": [
    "import os\n",
    "\n",
    "def portfolio_value_evaluation(stock_names, weights, start_date, end_date):\n",
    "    if np.sum(weights) != 1:\n",
    "        print(\"Sum\")\n",
    "    \n",
    "    stock_data = yf.download(\n",
    "        tickers = stock_names, \n",
    "        start = start_date,\n",
    "        end = end_date)\n",
    "    \n",
    "\n",
    "    stock_prices = stock_data['Adj Close']\n",
    "\n",
    "    weighted_stock_prices = stock_prices * weights\n",
    "    stock_prices.loc[:, 'Ptf Value'] = weighted_stock_prices.sum(1)\n",
    "\n",
    "     # Create the plot using matplotlib\n",
    "    plt.figure(figsize=(10, 6))\n",
    "\n",
    "    # Plot each stock's price and the portfolio value\n",
    "    for stock in stock_names:\n",
    "        plt.plot(stock_prices.index, stock_prices[stock], label=stock)\n",
    "\n",
    "    # Plot the portfolio value\n",
    "    plt.plot(stock_prices.index, stock_prices['Ptf Value'], label='Portfolio Value', linewidth=2, color='black')\n",
    "\n",
    "    # Add title and labels\n",
    "    plt.title(\"Portfolio Value Over Time\")\n",
    "    plt.xlabel(\"Date\")\n",
    "    plt.ylabel(\"Price (Normalized)\")\n",
    "\n",
    "    output_dir = 'temp_images'\n",
    "\n",
    "    # Add a legend\n",
    "    plt.legend()\n",
    "\n",
    "    # Ensure the output directory exists\n",
    "    os.makedirs(output_dir, exist_ok=True)\n",
    "    \n",
    "    # Define the file path for saving the image (e.g., PNG format)\n",
    "    file_image = os.path.join(output_dir, \"portfolio_value_plot.png\")\n",
    "\n",
    "    # Save the figure as a PNG image\n",
    "    plt.savefig(file_image)\n",
    "\n",
    "    # Close the plot to avoid display (if you're in a script and don't want to show it)\n",
    "    plt.close()\n",
    "\n",
    "    return stock_prices"
   ]
  },
  {
   "cell_type": "code",
   "execution_count": 21,
   "metadata": {},
   "outputs": [
    {
     "name": "stderr",
     "output_type": "stream",
     "text": [
      "[*********************100%***********************]  4 of 4 completed\n",
      "c:\\Users\\João\\AppData\\Local\\Programs\\Python\\Python310\\lib\\site-packages\\pandas\\core\\indexing.py:1667: SettingWithCopyWarning:\n",
      "\n",
      "\n",
      "A value is trying to be set on a copy of a slice from a DataFrame.\n",
      "Try using .loc[row_indexer,col_indexer] = value instead\n",
      "\n",
      "See the caveats in the documentation: https://pandas.pydata.org/pandas-docs/stable/user_guide/indexing.html#returning-a-view-versus-a-copy\n",
      "\n"
     ]
    }
   ],
   "source": [
    "full_portfolio_prices = portfolio_value_evaluation(stock_names, weights, start_date, end_date)"
   ]
  },
  {
   "cell_type": "code",
   "execution_count": 22,
   "metadata": {},
   "outputs": [
    {
     "data": {
      "text/html": [
       "<div>\n",
       "<style scoped>\n",
       "    .dataframe tbody tr th:only-of-type {\n",
       "        vertical-align: middle;\n",
       "    }\n",
       "\n",
       "    .dataframe tbody tr th {\n",
       "        vertical-align: top;\n",
       "    }\n",
       "\n",
       "    .dataframe thead th {\n",
       "        text-align: right;\n",
       "    }\n",
       "</style>\n",
       "<table border=\"1\" class=\"dataframe\">\n",
       "  <thead>\n",
       "    <tr style=\"text-align: right;\">\n",
       "      <th>Ticker</th>\n",
       "      <th>AAPL</th>\n",
       "      <th>META</th>\n",
       "      <th>MSFT</th>\n",
       "      <th>SPY</th>\n",
       "      <th>Ptf Value</th>\n",
       "    </tr>\n",
       "    <tr>\n",
       "      <th>Date</th>\n",
       "      <th></th>\n",
       "      <th></th>\n",
       "      <th></th>\n",
       "      <th></th>\n",
       "      <th></th>\n",
       "    </tr>\n",
       "  </thead>\n",
       "  <tbody>\n",
       "    <tr>\n",
       "      <th>2024-12-12</th>\n",
       "      <td>247.960007</td>\n",
       "      <td>630.281555</td>\n",
       "      <td>449.559998</td>\n",
       "      <td>604.330017</td>\n",
       "      <td>483.032894</td>\n",
       "    </tr>\n",
       "    <tr>\n",
       "      <th>2024-12-13</th>\n",
       "      <td>248.130005</td>\n",
       "      <td>619.849976</td>\n",
       "      <td>447.269989</td>\n",
       "      <td>604.210022</td>\n",
       "      <td>479.864998</td>\n",
       "    </tr>\n",
       "    <tr>\n",
       "      <th>2024-12-16</th>\n",
       "      <td>251.039993</td>\n",
       "      <td>624.239990</td>\n",
       "      <td>451.589996</td>\n",
       "      <td>606.789978</td>\n",
       "      <td>483.414989</td>\n",
       "    </tr>\n",
       "    <tr>\n",
       "      <th>2024-12-17</th>\n",
       "      <td>253.479996</td>\n",
       "      <td>619.440002</td>\n",
       "      <td>454.459991</td>\n",
       "      <td>604.289978</td>\n",
       "      <td>482.917492</td>\n",
       "    </tr>\n",
       "    <tr>\n",
       "      <th>2024-12-18</th>\n",
       "      <td>253.733093</td>\n",
       "      <td>621.520020</td>\n",
       "      <td>451.609985</td>\n",
       "      <td>605.690002</td>\n",
       "      <td>483.138275</td>\n",
       "    </tr>\n",
       "  </tbody>\n",
       "</table>\n",
       "</div>"
      ],
      "text/plain": [
       "Ticker            AAPL        META        MSFT         SPY   Ptf Value\n",
       "Date                                                                  \n",
       "2024-12-12  247.960007  630.281555  449.559998  604.330017  483.032894\n",
       "2024-12-13  248.130005  619.849976  447.269989  604.210022  479.864998\n",
       "2024-12-16  251.039993  624.239990  451.589996  606.789978  483.414989\n",
       "2024-12-17  253.479996  619.440002  454.459991  604.289978  482.917492\n",
       "2024-12-18  253.733093  621.520020  451.609985  605.690002  483.138275"
      ]
     },
     "execution_count": 22,
     "metadata": {},
     "output_type": "execute_result"
    }
   ],
   "source": [
    "full_portfolio_prices.tail()"
   ]
  },
  {
   "cell_type": "code",
   "execution_count": 23,
   "metadata": {},
   "outputs": [
    {
     "name": "stdout",
     "output_type": "stream",
     "text": [
      "Total portfolio return: 167.61%\n"
     ]
    }
   ],
   "source": [
    "total_return = (full_portfolio_prices['Ptf Value'][-1] / full_portfolio_prices['Ptf Value'][0])-1\n",
    "print(\"Total portfolio return:\", f\"{total_return:.2%}\")"
   ]
  }
 ],
 "metadata": {
  "kernelspec": {
   "display_name": "Python 3",
   "language": "python",
   "name": "python3"
  },
  "language_info": {
   "codemirror_mode": {
    "name": "ipython",
    "version": 3
   },
   "file_extension": ".py",
   "mimetype": "text/x-python",
   "name": "python",
   "nbconvert_exporter": "python",
   "pygments_lexer": "ipython3",
   "version": "3.10.11"
  }
 },
 "nbformat": 4,
 "nbformat_minor": 2
}
